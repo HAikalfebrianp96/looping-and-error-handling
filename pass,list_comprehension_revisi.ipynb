{
  "nbformat": 4,
  "nbformat_minor": 0,
  "metadata": {
    "colab": {
      "name": "pass,list_comprehension.ipynb",
      "provenance": [],
      "collapsed_sections": []
    },
    "kernelspec": {
      "name": "python3",
      "display_name": "Python 3"
    },
    "language_info": {
      "name": "python"
    }
  },
  "cells": [
    {
      "cell_type": "markdown",
      "source": [
        "#While Else"
      ],
      "metadata": {
        "id": "UvfiK3b_yjie"
      }
    },
    {
      "cell_type": "markdown",
      "source": [
        ">for example while else"
      ],
      "metadata": {
        "id": "i5Ly5VFFzzl2"
      }
    },
    {
      "cell_type": "code",
      "source": [
        "number = int(input(\"please input number= \"))\n",
        "\n",
        "while (number > 0):\n",
        "    print(\"Number {}\".format(number))\n",
        "    number -= 1\n",
        "else:\n",
        "  print(\"The End\")"
      ],
      "metadata": {
        "id": "6dmiyPa-zrbX",
        "colab": {
          "base_uri": "https://localhost:8080/"
        },
        "outputId": "f496d38a-389f-4392-8579-722770c582a8"
      },
      "execution_count": null,
      "outputs": [
        {
          "output_type": "stream",
          "name": "stdout",
          "text": [
            "please input number= 5\n",
            "Number 5\n",
            "Number 4\n",
            "Number 3\n",
            "Number 2\n",
            "Number 1\n",
            "The End\n"
          ]
        }
      ]
    },
    {
      "cell_type": "code",
      "source": [
        "number = 5\n",
        "\n",
        "while (number < 15):\n",
        "  number+= 2\n",
        "  print(number)\n",
        "else:\n",
        "  print(\"The End\")"
      ],
      "metadata": {
        "id": "GphLnnJ9zrwv",
        "colab": {
          "base_uri": "https://localhost:8080/"
        },
        "outputId": "c2d12914-dd50-4bd2-c876-edd6f76fd35a"
      },
      "execution_count": null,
      "outputs": [
        {
          "output_type": "stream",
          "name": "stdout",
          "text": [
            "7\n",
            "9\n",
            "11\n",
            "13\n",
            "15\n",
            "The End\n"
          ]
        }
      ]
    },
    {
      "cell_type": "markdown",
      "source": [
        "#for Loop"
      ],
      "metadata": {
        "id": "tubPJpFW1GR8"
      }
    },
    {
      "cell_type": "markdown",
      "source": [
        ">example for loop to display odd number"
      ],
      "metadata": {
        "id": "RfE7f-681mTo"
      }
    },
    {
      "cell_type": "code",
      "source": [
        "for i in range(1,9):\n",
        "  if i % 2 == 1:\n",
        "    print(\"{} is an odd number\".format(i))\n",
        "    \n",
        "  else:\n",
        "    print(\"{} is an even number\".format(i))"
      ],
      "metadata": {
        "id": "I5Oy6gh90kDZ",
        "colab": {
          "base_uri": "https://localhost:8080/"
        },
        "outputId": "c757badd-9208-494c-8a6f-760f9b321c8c"
      },
      "execution_count": null,
      "outputs": [
        {
          "output_type": "stream",
          "name": "stdout",
          "text": [
            "1 is an odd number\n",
            "2 is an even number\n",
            "3 is an odd number\n",
            "4 is an even number\n",
            "5 is an odd number\n",
            "6 is an even number\n",
            "7 is an odd number\n",
            "8 is an even number\n"
          ]
        }
      ]
    },
    {
      "cell_type": "code",
      "source": [
        "for i in range(1,9):\n",
        "  if i % 2 == 1:\n",
        "    print(\"{} is an odd number\".format(i))\n",
        "    "
      ],
      "metadata": {
        "colab": {
          "base_uri": "https://localhost:8080/"
        },
        "id": "vFWrtlgR0kJ_",
        "outputId": "ddd127b7-21ee-41aa-f0e6-cda1a310c8fc"
      },
      "execution_count": null,
      "outputs": [
        {
          "output_type": "stream",
          "name": "stdout",
          "text": [
            "1 is an odd number\n",
            "3 is an odd number\n",
            "5 is an odd number\n",
            "7 is an odd number\n"
          ]
        }
      ]
    },
    {
      "cell_type": "markdown",
      "source": [
        "The example above uses a range between 1 to 8"
      ],
      "metadata": {
        "id": "k-MNyMYM2hpE"
      }
    },
    {
      "cell_type": "markdown",
      "source": [
        "#pass"
      ],
      "metadata": {
        "id": "ufonqkTV2kcX"
      }
    },
    {
      "cell_type": "markdown",
      "source": [
        "\n",
        "\n",
        "*   Pass is a null operation, so nothing happens when called\n",
        "*   In simple terms this pass function is if we want a statement but do nothing, just continue to the next statement\n",
        "*  You could say this pass is used to construct a loop\n",
        "\n"
      ],
      "metadata": {
        "id": "ubS6-sRK3Zic"
      }
    },
    {
      "cell_type": "code",
      "source": [
        ""
      ],
      "metadata": {
        "id": "35DqAj9C6-B3"
      },
      "execution_count": null,
      "outputs": []
    },
    {
      "cell_type": "code",
      "source": [
        "n=\"\"\n",
        "\n",
        "while(n != \"exit\"):\n",
        "  n =input(\"please enter number= \")\n",
        "  print(\"we get number {}\".format(int(n)))"
      ],
      "metadata": {
        "colab": {
          "base_uri": "https://localhost:8080/",
          "height": 335
        },
        "id": "je7UitLf0kgE",
        "outputId": "6a72b39a-899c-4262-fcf8-361af49409cd"
      },
      "execution_count": null,
      "outputs": [
        {
          "name": "stdout",
          "output_type": "stream",
          "text": [
            "please enter number= 190\n",
            "we get number 190\n",
            "please enter number= 200\n",
            "we get number 200\n",
            "please enter number=  190\n",
            "we get number 190\n",
            "please enter number= int\n"
          ]
        },
        {
          "output_type": "error",
          "ename": "ValueError",
          "evalue": "ignored",
          "traceback": [
            "\u001b[0;31m---------------------------------------------------------------------------\u001b[0m",
            "\u001b[0;31mValueError\u001b[0m                                Traceback (most recent call last)",
            "\u001b[0;32m<ipython-input-10-3249b367462b>\u001b[0m in \u001b[0;36m<module>\u001b[0;34m()\u001b[0m\n\u001b[1;32m      3\u001b[0m \u001b[0;32mwhile\u001b[0m\u001b[0;34m(\u001b[0m\u001b[0mn\u001b[0m \u001b[0;34m!=\u001b[0m \u001b[0;36m190\u001b[0m\u001b[0;34m)\u001b[0m\u001b[0;34m:\u001b[0m\u001b[0;34m\u001b[0m\u001b[0;34m\u001b[0m\u001b[0m\n\u001b[1;32m      4\u001b[0m   \u001b[0mn\u001b[0m \u001b[0;34m=\u001b[0m\u001b[0minput\u001b[0m\u001b[0;34m(\u001b[0m\u001b[0;34m\"please enter number= \"\u001b[0m\u001b[0;34m)\u001b[0m\u001b[0;34m\u001b[0m\u001b[0;34m\u001b[0m\u001b[0m\n\u001b[0;32m----> 5\u001b[0;31m   \u001b[0mprint\u001b[0m\u001b[0;34m(\u001b[0m\u001b[0;34m\"we get number {}\"\u001b[0m\u001b[0;34m.\u001b[0m\u001b[0mformat\u001b[0m\u001b[0;34m(\u001b[0m\u001b[0mint\u001b[0m\u001b[0;34m(\u001b[0m\u001b[0mn\u001b[0m\u001b[0;34m)\u001b[0m\u001b[0;34m)\u001b[0m\u001b[0;34m)\u001b[0m\u001b[0;34m\u001b[0m\u001b[0;34m\u001b[0m\u001b[0m\n\u001b[0m",
            "\u001b[0;31mValueError\u001b[0m: invalid literal for int() with base 10: 'int'"
          ]
        }
      ]
    },
    {
      "cell_type": "markdown",
      "source": [
        "above is an example of a program without using a pass, then the program will stop if we enter anything other than an integer due to an error"
      ],
      "metadata": {
        "id": "STrTRzKb4dN-"
      }
    },
    {
      "cell_type": "code",
      "source": [
        "import sys\n",
        "n=\"\"\n",
        "\n",
        "while(n!=\"exit\"):\n",
        "  try:\n",
        "     n = input(\"Masukkan angka \")\n",
        "     print(\"Dapat angka {}\".format(int(n)))\n",
        "  except:\n",
        "    if n==\"exit\":\n",
        "      pass \n",
        "    else:\n",
        "      print(\"sudah error {}\".format(sys.exc_info()))"
      ],
      "metadata": {
        "colab": {
          "base_uri": "https://localhost:8080/"
        },
        "id": "kRV46uBI0ki2",
        "outputId": "0b8f6eeb-48b1-4420-cb74-f5882e0f026a"
      },
      "execution_count": null,
      "outputs": [
        {
          "output_type": "stream",
          "name": "stdout",
          "text": [
            "Masukkan angka 2\n",
            "Dapat angka 2\n",
            "Masukkan angka exit\n",
            "werr\n"
          ]
        }
      ]
    },
    {
      "cell_type": "markdown",
      "source": [
        "above is an example of using pass, when we enter the word 'exit' then this pass does nothing and continues to the next statement"
      ],
      "metadata": {
        "id": "YJPBVFM644ZL"
      }
    },
    {
      "cell_type": "markdown",
      "source": [
        "#List Comprehension"
      ],
      "metadata": {
        "id": "_KLIHb9u-jQE"
      }
    },
    {
      "cell_type": "markdown",
      "source": [
        "\n",
        "\n",
        "*   List comprehensions are used to create lists with inline loops and if\n"
      ],
      "metadata": {
        "id": "-n4iw13C-mlE"
      }
    },
    {
      "cell_type": "code",
      "source": [
        "number = [2,3,4,5,6]"
      ],
      "metadata": {
        "id": "xXY_h-990kl9"
      },
      "execution_count": null,
      "outputs": []
    },
    {
      "cell_type": "code",
      "source": [
        "root = []"
      ],
      "metadata": {
        "id": "CXQSCoGw-_8A"
      },
      "execution_count": null,
      "outputs": []
    },
    {
      "cell_type": "code",
      "source": [
        "root"
      ],
      "metadata": {
        "colab": {
          "base_uri": "https://localhost:8080/"
        },
        "id": "VIc9PFC-_AEK",
        "outputId": "6b1a9792-0886-4ed2-b89f-ed53835cdc02"
      },
      "execution_count": null,
      "outputs": [
        {
          "output_type": "execute_result",
          "data": {
            "text/plain": [
              "[]"
            ]
          },
          "metadata": {},
          "execution_count": 5
        }
      ]
    },
    {
      "cell_type": "code",
      "source": [
        "for i in number:\n",
        "  root.append(i**(1/2))\n",
        "print(root)"
      ],
      "metadata": {
        "colab": {
          "base_uri": "https://localhost:8080/"
        },
        "id": "zDjGzQ8W_AWm",
        "outputId": "8d75ba70-c63f-4acf-ebc6-1f32cc9c7dd5"
      },
      "execution_count": null,
      "outputs": [
        {
          "output_type": "stream",
          "name": "stdout",
          "text": [
            "[1.4142135623730951, 1.7320508075688772, 2.0, 2.23606797749979, 2.449489742783178]\n"
          ]
        }
      ]
    },
    {
      "cell_type": "markdown",
      "source": [
        "another way to write it"
      ],
      "metadata": {
        "id": "jZJ-C5qb0jfH"
      }
    },
    {
      "cell_type": "code",
      "source": [
        "number = [2,3,4,5,6]\n",
        "\n",
        "root=[i**0.5 for i in angka]\n",
        "print(akar)"
      ],
      "metadata": {
        "colab": {
          "base_uri": "https://localhost:8080/"
        },
        "id": "-VxkWd7LzzC5",
        "outputId": "c97f51dd-6224-4e79-b6b1-92a3ec51ce6d"
      },
      "execution_count": null,
      "outputs": [
        {
          "output_type": "stream",
          "name": "stdout",
          "text": [
            "[1.4142135623730951, 1.7320508075688772, 2.0, 2.23606797749979, 2.449489742783178]\n"
          ]
        }
      ]
    }
  ]
}