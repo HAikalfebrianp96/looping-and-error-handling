{
  "nbformat": 4,
  "nbformat_minor": 0,
  "metadata": {
    "colab": {
      "name": "List_Comprehension_&_Syntax_Error.ipynb",
      "provenance": [],
      "collapsed_sections": []
    },
    "kernelspec": {
      "name": "python3",
      "display_name": "Python 3"
    },
    "language_info": {
      "name": "python"
    }
  },
  "cells": [
    {
      "cell_type": "markdown",
      "source": [
        "# **List Comprehension (Create a list with inline or loop)**\n",
        "\n",
        "\n",
        "---\n",
        "\n",
        "List comprehensions are a way of generating new lists based on pre-existing lists or iterables."
      ],
      "metadata": {
        "id": "bSnPpolftVx8"
      }
    },
    {
      "cell_type": "code",
      "source": [
        "kubik = []"
      ],
      "metadata": {
        "id": "0O-Y8GRGtX1W"
      },
      "execution_count": null,
      "outputs": []
    },
    {
      "cell_type": "code",
      "source": [
        "for i in number:\n",
        "  kubik.append(i**3)\n",
        "  print(kubik)"
      ],
      "metadata": {
        "colab": {
          "base_uri": "https://localhost:8080/"
        },
        "id": "Vct32UAqtd01",
        "outputId": "a93ff025-a9d4-4981-d70e-031cf0308561"
      },
      "execution_count": null,
      "outputs": [
        {
          "output_type": "stream",
          "name": "stdout",
          "text": [
            "[8]\n",
            "[8, 27]\n",
            "[8, 27, 64]\n"
          ]
        }
      ]
    },
    {
      "cell_type": "markdown",
      "source": [
        "other way writing code"
      ],
      "metadata": {
        "id": "YyxM1hk3ts5P"
      }
    },
    {
      "cell_type": "code",
      "source": [
        "number = [2,3,4]"
      ],
      "metadata": {
        "id": "szHo37vLtqpD"
      },
      "execution_count": null,
      "outputs": []
    },
    {
      "cell_type": "code",
      "source": [
        "kubik = [i**3 for i in angka]"
      ],
      "metadata": {
        "id": "UBsms1u_txCM"
      },
      "execution_count": null,
      "outputs": []
    },
    {
      "cell_type": "code",
      "source": [
        "print(kubik)"
      ],
      "metadata": {
        "colab": {
          "base_uri": "https://localhost:8080/"
        },
        "id": "mNbKnVzVt1JT",
        "outputId": "1a5337b5-7e64-44f0-a8b7-d52b8479ed07"
      },
      "execution_count": null,
      "outputs": [
        {
          "output_type": "stream",
          "name": "stdout",
          "text": [
            "[8, 27, 64]\n"
          ]
        }
      ]
    },
    {
      "cell_type": "code",
      "source": [
        "item = ['a','m','e','r','i','c','a','n','o']\n",
        "add = ['s','u','g','a','r']\n",
        "\n",
        "dupe = []\n",
        "\n",
        "for i in item :\n",
        "  for j in add :\n",
        "    if i == j :\n",
        "      dupe.append(i)\n",
        "print(dupe)"
      ],
      "metadata": {
        "colab": {
          "base_uri": "https://localhost:8080/"
        },
        "id": "mxKoo_IXt3Wf",
        "outputId": "536abd11-5049-4714-f684-bce2eea516ed"
      },
      "execution_count": null,
      "outputs": [
        {
          "output_type": "stream",
          "name": "stdout",
          "text": [
            "['a', 'r', 'a']\n"
          ]
        }
      ]
    },
    {
      "cell_type": "code",
      "source": [
        "item1 = ['c','a','r','a','m','e','l']\n",
        "item2 = ['f','r','a','p','p','u','c','c','i','n','o']"
      ],
      "metadata": {
        "id": "-xFo8MPguJzc"
      },
      "execution_count": null,
      "outputs": []
    },
    {
      "cell_type": "code",
      "source": [
        "dupe = [i for i in item1 for j in item2 if i == j]"
      ],
      "metadata": {
        "id": "i_1nD3byv7Bb"
      },
      "execution_count": null,
      "outputs": []
    },
    {
      "cell_type": "code",
      "source": [
        "print(dupe)"
      ],
      "metadata": {
        "colab": {
          "base_uri": "https://localhost:8080/"
        },
        "id": "gDR3cC7CwEWY",
        "outputId": "76f4047a-8523-4ff4-f152-3fdbb9fb9fd6"
      },
      "execution_count": null,
      "outputs": [
        {
          "output_type": "stream",
          "name": "stdout",
          "text": [
            "['c', 'c', 'a', 'r', 'a']\n"
          ]
        }
      ]
    },
    {
      "cell_type": "code",
      "source": [
        "data = ['caramel','macchiato']\n",
        "upper = [_.upper() for _ in data]\n",
        "print(upper)"
      ],
      "metadata": {
        "colab": {
          "base_uri": "https://localhost:8080/"
        },
        "id": "a90ywut3wJg-",
        "outputId": "3669c2a1-3cdf-4dee-e621-c736fae93650"
      },
      "execution_count": null,
      "outputs": [
        {
          "output_type": "stream",
          "name": "stdout",
          "text": [
            "['CARAMEL', 'MACCHIATO']\n"
          ]
        }
      ]
    },
    {
      "cell_type": "markdown",
      "source": [
        "- underscore including valid variable naming\n",
        "- in general \"_\" is used as a throwaway variable (unimportant variable)"
      ],
      "metadata": {
        "id": "iijtsVcXy8uB"
      }
    },
    {
      "cell_type": "code",
      "source": [
        "a = 'americano'"
      ],
      "metadata": {
        "id": "oPdZaFULyq4s"
      },
      "execution_count": null,
      "outputs": []
    },
    {
      "cell_type": "code",
      "source": [
        "a.upper()"
      ],
      "metadata": {
        "colab": {
          "base_uri": "https://localhost:8080/",
          "height": 35
        },
        "id": "u3Kv77QmznU-",
        "outputId": "aa2bede2-62e1-49ad-fcc3-b66db5fe9d04"
      },
      "execution_count": null,
      "outputs": [
        {
          "output_type": "execute_result",
          "data": {
            "text/plain": [
              "'AMERICANO'"
            ],
            "application/vnd.google.colaboratory.intrinsic+json": {
              "type": "string"
            }
          },
          "metadata": {},
          "execution_count": 28
        }
      ]
    },
    {
      "cell_type": "code",
      "source": [
        "for i in 'americano':\n",
        "  print(i)"
      ],
      "metadata": {
        "colab": {
          "base_uri": "https://localhost:8080/"
        },
        "id": "BNVteRXHzoib",
        "outputId": "70e4aa79-3dba-4433-9ff1-7e5df3f33858"
      },
      "execution_count": null,
      "outputs": [
        {
          "output_type": "stream",
          "name": "stdout",
          "text": [
            "a\n",
            "m\n",
            "e\n",
            "r\n",
            "i\n",
            "c\n",
            "a\n",
            "n\n",
            "o\n"
          ]
        }
      ]
    },
    {
      "cell_type": "markdown",
      "source": [
        "# **Syntax errors**"
      ],
      "metadata": {
        "id": "U7umJ16I_eVx"
      }
    },
    {
      "cell_type": "markdown",
      "source": [
        "Syntax Error\n",
        "\n",
        "---\n",
        "\n",
        "\n",
        "Occurs when Python can't understand what you're commanding, syntax errors are common when you're just starting out with Python."
      ],
      "metadata": {
        "id": "7cex71usAZoS"
      }
    },
    {
      "cell_type": "code",
      "source": [
        "for i in 'data'\n",
        "  print(i)"
      ],
      "metadata": {
        "colab": {
          "base_uri": "https://localhost:8080/",
          "height": 133
        },
        "id": "fIEROqFO2gAQ",
        "outputId": "83b7a941-f903-45b2-abdf-0ff079aa1b7c"
      },
      "execution_count": null,
      "outputs": [
        {
          "output_type": "error",
          "ename": "SyntaxError",
          "evalue": "ignored",
          "traceback": [
            "\u001b[0;36m  File \u001b[0;32m\"<ipython-input-4-46599ee742e7>\"\u001b[0;36m, line \u001b[0;32m1\u001b[0m\n\u001b[0;31m    for i in 'data'\u001b[0m\n\u001b[0m                   ^\u001b[0m\n\u001b[0;31mSyntaxError\u001b[0m\u001b[0;31m:\u001b[0m invalid syntax\n"
          ]
        }
      ]
    },
    {
      "cell_type": "code",
      "source": [
        "for i in data:\n",
        "print(i)"
      ],
      "metadata": {
        "colab": {
          "base_uri": "https://localhost:8080/",
          "height": 133
        },
        "id": "2whgmEw7BoYz",
        "outputId": "88c3cd19-6b85-46fb-ab0f-fe3741ea2020"
      },
      "execution_count": null,
      "outputs": [
        {
          "output_type": "error",
          "ename": "IndentationError",
          "evalue": "ignored",
          "traceback": [
            "\u001b[0;36m  File \u001b[0;32m\"<ipython-input-5-0ce9215dbca1>\"\u001b[0;36m, line \u001b[0;32m2\u001b[0m\n\u001b[0;31m    print(i)\u001b[0m\n\u001b[0m        ^\u001b[0m\n\u001b[0;31mIndentationError\u001b[0m\u001b[0;31m:\u001b[0m expected an indented block\n"
          ]
        }
      ]
    },
    {
      "cell_type": "markdown",
      "source": [
        "Exceptions\n",
        "\n",
        "---\n",
        "\n",
        "\n",
        "Exceptions may occur in syntactically correct code blocks at run time. When Python cannot execute the requested action, it terminates the code and raises an error message."
      ],
      "metadata": {
        "id": "SQw_o3v_DQk4"
      }
    },
    {
      "cell_type": "code",
      "source": [
        "print(data)"
      ],
      "metadata": {
        "colab": {
          "base_uri": "https://localhost:8080/",
          "height": 168
        },
        "id": "qWlV1nYXBxu2",
        "outputId": "007aa8ed-0d4d-43fe-b588-2bc2a23d202f"
      },
      "execution_count": null,
      "outputs": [
        {
          "output_type": "error",
          "ename": "NameError",
          "evalue": "ignored",
          "traceback": [
            "\u001b[0;31m---------------------------------------------------------------------------\u001b[0m",
            "\u001b[0;31mNameError\u001b[0m                                 Traceback (most recent call last)",
            "\u001b[0;32m<ipython-input-1-dbd883db58b7>\u001b[0m in \u001b[0;36m<module>\u001b[0;34m()\u001b[0m\n\u001b[0;32m----> 1\u001b[0;31m \u001b[0mprint\u001b[0m\u001b[0;34m(\u001b[0m\u001b[0mdata\u001b[0m\u001b[0;34m)\u001b[0m\u001b[0;34m\u001b[0m\u001b[0;34m\u001b[0m\u001b[0m\n\u001b[0m",
            "\u001b[0;31mNameError\u001b[0m: name 'data' is not defined"
          ]
        }
      ]
    },
    {
      "cell_type": "code",
      "source": [
        "first = '1'"
      ],
      "metadata": {
        "id": "TlMgEFUWD1sC"
      },
      "execution_count": null,
      "outputs": []
    },
    {
      "cell_type": "code",
      "source": [
        "first + 2"
      ],
      "metadata": {
        "id": "VsnEFkq7EQ3d"
      },
      "execution_count": null,
      "outputs": []
    },
    {
      "cell_type": "markdown",
      "source": [
        "logical error\n",
        "-------------\n",
        "Logical errors are the most difficult errors to fix as they don’t crash your code and you don’t get any error message. so, logical error occour when we dont get the result we want but the program still running"
      ],
      "metadata": {
        "id": "7nBN9O9WB8B0"
      }
    },
    {
      "cell_type": "markdown",
      "source": [
        "for example we want to addition 2 number first then multiple it with 3"
      ],
      "metadata": {
        "id": "qv6ZOj9UCpaL"
      }
    },
    {
      "cell_type": "code",
      "source": [
        "a=float(input(\"input first number= \"))\n",
        "b=float(input(\"input second number= \"))\n",
        "\n",
        "print(\"output formula (a+b)*3 equal to \",a+b*3)\n",
        "print(\"expected output formula (a+b)*3\",(a+b)*3)"
      ],
      "metadata": {
        "id": "eQIVck-BESFr",
        "colab": {
          "base_uri": "https://localhost:8080/"
        },
        "outputId": "d8c20494-bdc3-45a5-95a9-eb170518e557"
      },
      "execution_count": 1,
      "outputs": [
        {
          "output_type": "stream",
          "name": "stdout",
          "text": [
            "input first number= 2\n",
            "input second number= 3\n",
            "output formula (a+b)*3 equal to  11.0\n",
            "expected output formula (a+b)*3 15.0\n"
          ]
        }
      ]
    },
    {
      "cell_type": "markdown",
      "source": [
        "so, as code program its not wrong but it isn't what we expected."
      ],
      "metadata": {
        "id": "OvAFCC3NDwDK"
      }
    }
  ]
}