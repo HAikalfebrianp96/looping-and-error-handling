{
  "nbformat": 4,
  "nbformat_minor": 0,
  "metadata": {
    "colab": {
      "name": "FOR",
      "provenance": []
    },
    "kernelspec": {
      "name": "python3",
      "display_name": "Python 3"
    },
    "language_info": {
      "name": "python"
    }
  },
  "cells": [
    {
      "cell_type": "markdown",
      "source": [
        "#**for**"
      ],
      "metadata": {
        "id": "xkcigf7fn7yt"
      }
    },
    {
      "cell_type": "markdown",
      "source": [
        "- For is a fung that can loop each type of variabkle in the form of a collection or sequence\n",
        "- The variable in question can be a list, string, or range.\n",
        "- if a list or sequence contains experession, it will be evaluated first\n",
        "- then the first item in the order / list will be diassigned as a variable iterating_var afterwards, the state data block will be executed, continuing to the next item, repeating until the sequence."
      ],
      "metadata": {
        "id": "Fu1XKU6ql9K6"
      }
    },
    {
      "cell_type": "code",
      "source": [
        "visual_design= ['Photoshop','Ilustrator','corel draw']\n",
        "\n",
        "for perangkat in visual_design:\n",
        "    print(\"Software Editing {}\".format(perangkat))"
      ],
      "metadata": {
        "colab": {
          "base_uri": "https://localhost:8080/"
        },
        "id": "6xsbKBs8z_F1",
        "outputId": "60097690-ee29-4c5e-8e92-b3c82ee4c05d"
      },
      "execution_count": null,
      "outputs": [
        {
          "output_type": "stream",
          "name": "stdout",
          "text": [
            "Software Editing Photoshop\n",
            "Software Editing Ilustrator\n",
            "Software Editing corel draw\n"
          ]
        }
      ]
    },
    {
      "cell_type": "code",
      "execution_count": null,
      "metadata": {
        "colab": {
          "base_uri": "https://localhost:8080/"
        },
        "id": "c6KS9sV098da",
        "outputId": "b021b822-de0d-4c5d-8caa-0a4c13d1292e"
      },
      "outputs": [
        {
          "output_type": "stream",
          "name": "stdout",
          "text": [
            "0\n",
            "1\n",
            "2\n",
            "3\n",
            "4\n"
          ]
        }
      ],
      "source": [
        "for i in range(5):\n",
        "  print(i)"
      ]
    },
    {
      "cell_type": "code",
      "source": [
        "for i in range(1,10,2):\n",
        "  print(i)"
      ],
      "metadata": {
        "colab": {
          "base_uri": "https://localhost:8080/"
        },
        "id": "5Rm03VDf-zOp",
        "outputId": "ad3a0dcc-59e9-42b2-a65c-46a92fa3be82"
      },
      "execution_count": null,
      "outputs": [
        {
          "output_type": "stream",
          "name": "stdout",
          "text": [
            "1\n",
            "3\n",
            "5\n",
            "7\n",
            "9\n"
          ]
        }
      ]
    },
    {
      "cell_type": "markdown",
      "source": [
        "**For Bertingkat**"
      ],
      "metadata": {
        "id": "inKvno4lFlt7"
      }
    },
    {
      "cell_type": "markdown",
      "source": [
        "A nested loop has one loop inside of another. These are typically used for working with two dimensions such as printing stars in rows and columns as shown below. When a loop is nested inside another loop, the inner loop runs many times inside the outer loop."
      ],
      "metadata": {
        "id": "vVRjbmkTQ3z0"
      }
    },
    {
      "cell_type": "code",
      "source": [
        "for row in range(10):\n",
        "    for col in range(10):\n",
        "        if row == 0 and col <= 0:\n",
        "            print(\"*\", end = \" \")\n",
        "        elif row == 1 and col <= 1:\n",
        "            print(\"*\", end = \" \")\n",
        "        elif row == 2 and col <= 2:\n",
        "            print(\"*\", end = \" \")\n",
        "        elif row == 3 and col <= 3:\n",
        "            print(\"*\", end = \" \")\n",
        "        elif row == 4 and col <= 4:\n",
        "            print(\"*\", end = \" \")\n",
        "        elif row == 5 and col <= 5:\n",
        "            print(\"*\", end = \" \")\n",
        "        elif row == 6 and col <= 6:\n",
        "            print(\"*\", end = \" \")\n",
        "    print()"
      ],
      "metadata": {
        "colab": {
          "base_uri": "https://localhost:8080/"
        },
        "id": "p1iVP6KhBHlN",
        "outputId": "317b7c5c-3dca-4a3f-8714-cc128529c4ec"
      },
      "execution_count": null,
      "outputs": [
        {
          "output_type": "stream",
          "name": "stdout",
          "text": [
            "* \n",
            "* * \n",
            "* * * \n",
            "* * * * \n",
            "* * * * * \n",
            "* * * * * * \n",
            "* * * * * * * \n",
            "\n",
            "\n",
            "\n"
          ]
        }
      ]
    },
    {
      "cell_type": "code",
      "source": [
        "for row in range(10):\n",
        "    for col in range(10):\n",
        "        if row == 0 and col <= 7:\n",
        "            print(\"*\", end = \" \")\n",
        "        elif row == 1 and col <= 7:\n",
        "            print(\"*\", end = \" \")\n",
        "        elif row == 2 and col <= 7:\n",
        "            print(\"*\", end = \" \")\n",
        "        elif row == 3 and col <= 7:\n",
        "            print(\"*\", end = \" \")\n",
        "        elif row == 4 and col <= 7:\n",
        "            print(\"*\", end = \" \")\n",
        "        elif row == 5 and col <= 7:\n",
        "            print(\"*\", end = \" \")\n",
        "        elif row == 6 and col <= 7:\n",
        "            print(\"*\", end = \" \")\n",
        "    print()"
      ],
      "metadata": {
        "id": "rY7kIivzEeuj",
        "colab": {
          "base_uri": "https://localhost:8080/"
        },
        "outputId": "03323ef9-5477-4d2a-9603-db462a1e5cd3"
      },
      "execution_count": null,
      "outputs": [
        {
          "output_type": "stream",
          "name": "stdout",
          "text": [
            "* * * * * * * * \n",
            "* * * * * * * * \n",
            "* * * * * * * * \n",
            "* * * * * * * * \n",
            "* * * * * * * * \n",
            "* * * * * * * * \n",
            "* * * * * * * * \n",
            "\n",
            "\n",
            "\n"
          ]
        }
      ]
    },
    {
      "cell_type": "markdown",
      "source": [
        "#**While**"
      ],
      "metadata": {
        "id": "JOZ_6oHLPibG"
      }
    },
    {
      "cell_type": "markdown",
      "source": [
        "- While in the python language is used to execute statements as long as the given conditions are met (True)\n",
        "- conditions can be any expression, and please keep in mind that true in phytons includes all values non_zero\n",
        "- when the condition becomes false, the program will proceed to the line after the statement block"
      ],
      "metadata": {
        "id": "miyKmpnJnfHl"
      }
    },
    {
      "cell_type": "code",
      "source": [
        "angka= int(input())\n",
        "while (angka < 100):\n",
        "    print(\"bilangan terbaik {}\".format(angka))\n",
        "    angka = angka + 5"
      ],
      "metadata": {
        "colab": {
          "base_uri": "https://localhost:8080/"
        },
        "id": "QlidNKV_xHB9",
        "outputId": "1c19ae2b-f606-4315-97b3-e0dcbb822b22"
      },
      "execution_count": null,
      "outputs": [
        {
          "output_type": "stream",
          "name": "stdout",
          "text": [
            "85\n",
            "bilangan terbaik 85\n",
            "bilangan terbaik 90\n",
            "bilangan terbaik 95\n"
          ]
        }
      ]
    },
    {
      "cell_type": "markdown",
      "source": [
        "#**BREAK**"
      ],
      "metadata": {
        "id": "HA7hlHWjOsgq"
      }
    },
    {
      "cell_type": "markdown",
      "source": [
        "- the break statement stops the loop then exits, followed by executing the statement after the looping block.\n",
        "- if you have a tiered loop, the break will stop the loop by the level or where it is located.\n",
        "- but if it is placed in a loop with a second depth, for example, only that loop will stop, not with the main loop."
      ],
      "metadata": {
        "id": "xowAAZr8pKAl"
      }
    },
    {
      "cell_type": "code",
      "source": [
        "x = \"Ramadhan Jazz Festival\":\n",
        "\n",
        "For i in x:\n",
        "  if i == x [12]\n",
        "        break\n",
        "  print(i)"
      ],
      "metadata": {
        "colab": {
          "base_uri": "https://localhost:8080/",
          "height": 135
        },
        "id": "uc6iDAlWNIu4",
        "outputId": "fbe7b8b8-24e6-46f5-e137-896910e0795f"
      },
      "execution_count": null,
      "outputs": [
        {
          "output_type": "error",
          "ename": "SyntaxError",
          "evalue": "ignored",
          "traceback": [
            "\u001b[0;36m  File \u001b[0;32m\"<ipython-input-10-c9bc7b82ba91>\"\u001b[0;36m, line \u001b[0;32m1\u001b[0m\n\u001b[0;31m    x = \"Ramadhan Jazz Festival\":\u001b[0m\n\u001b[0m                                ^\u001b[0m\n\u001b[0;31mSyntaxError\u001b[0m\u001b[0;31m:\u001b[0m invalid syntax\n"
          ]
        }
      ]
    },
    {
      "cell_type": "code",
      "source": [
        "x = \"Ramadhan Jazz Festival 2022\"\n",
        "for i in x:\n",
        "    if i == x[23]:\n",
        "        break\n",
        "    print(i,end=\"\")"
      ],
      "metadata": {
        "colab": {
          "base_uri": "https://localhost:8080/"
        },
        "id": "Ji3PQ1-WONC8",
        "outputId": "34045a1b-3d80-4221-8684-78168a016949"
      },
      "execution_count": null,
      "outputs": [
        {
          "output_type": "stream",
          "name": "stdout",
          "text": [
            "Ramadhan Jazz Festival "
          ]
        }
      ]
    },
    {
      "cell_type": "code",
      "source": [
        "for i in \"Management\":\n",
        "    if i == \"e\":\n",
        "      break\n",
        "    print(i)"
      ],
      "metadata": {
        "colab": {
          "base_uri": "https://localhost:8080/"
        },
        "id": "LnB-9te5tA14",
        "outputId": "c50897e0-5d46-4675-c2a6-de8785fe70b2"
      },
      "execution_count": null,
      "outputs": [
        {
          "output_type": "stream",
          "name": "stdout",
          "text": [
            "M\n",
            "a\n",
            "n\n",
            "a\n",
            "g\n"
          ]
        }
      ]
    },
    {
      "cell_type": "code",
      "source": [
        "while True: # loop forever\n",
        " line = input(\"Type anything, type 'done' to exit: \")\n",
        " if line == 'done':\n",
        "    break # transfers control out of the loop\n",
        " print('You entered:', line)\n",
        "print('Finished')"
      ],
      "metadata": {
        "id": "tGnnMTXPdunH"
      },
      "execution_count": null,
      "outputs": []
    },
    {
      "cell_type": "markdown",
      "source": [
        "#**Continue**\n"
      ],
      "metadata": {
        "id": "QPq5Xz06rUSn"
      }
    },
    {
      "cell_type": "markdown",
      "source": [
        "- The continue statement stops the current iteration\n",
        "- then continues it to the next iteration\n",
        "- statements that lie between continue to the end of the loop block"
      ],
      "metadata": {
        "id": "kDv7c0XJrw_P"
      }
    },
    {
      "cell_type": "code",
      "source": [
        "x = \"Ramadhan Jazz Festival 2022\"\n",
        "for i in x:\n",
        "    if i == x[23]:\n",
        "        continue\n",
        "    print(i,end=\"\")"
      ],
      "metadata": {
        "colab": {
          "base_uri": "https://localhost:8080/"
        },
        "id": "u_rgWsKWOzMD",
        "outputId": "030116da-0031-437c-fa90-5313eebf4f8b"
      },
      "execution_count": null,
      "outputs": [
        {
          "output_type": "stream",
          "name": "stdout",
          "text": [
            "Ramadhan Jazz Festival 0"
          ]
        }
      ]
    },
    {
      "cell_type": "code",
      "source": [
        "for i in \"Management\":\n",
        "    if i == \"a\":\n",
        "      continue\n",
        "    print(i)"
      ],
      "metadata": {
        "colab": {
          "base_uri": "https://localhost:8080/"
        },
        "id": "Ko4MXPBMsh2l",
        "outputId": "d968b94e-2153-49d5-8b6e-634ac2446ca3"
      },
      "execution_count": null,
      "outputs": [
        {
          "output_type": "stream",
          "name": "stdout",
          "text": [
            "M\n",
            "n\n",
            "g\n",
            "e\n",
            "m\n",
            "e\n",
            "n\n",
            "t\n"
          ]
        }
      ]
    },
    {
      "cell_type": "code",
      "source": [
        "# Program to show the use of continue statement inside loops\n",
        "\n",
        "for val in \"string\":\n",
        "    if val == \"i\":\n",
        "        continue\n",
        "    print(val)\n",
        "\n",
        "print(\"The end\")"
      ],
      "metadata": {
        "colab": {
          "base_uri": "https://localhost:8080/"
        },
        "id": "0Mw6Pz1BeM-P",
        "outputId": "dd21e2d2-8b27-4d53-c8c0-64fca3174cfa"
      },
      "execution_count": 3,
      "outputs": [
        {
          "output_type": "stream",
          "name": "stdout",
          "text": [
            "s\n",
            "t\n",
            "r\n",
            "n\n",
            "g\n",
            "The end\n"
          ]
        }
      ]
    },
    {
      "cell_type": "code",
      "source": [
        ""
      ],
      "metadata": {
        "id": "OQyGisZmeOwG"
      },
      "execution_count": null,
      "outputs": []
    }
  ]
}