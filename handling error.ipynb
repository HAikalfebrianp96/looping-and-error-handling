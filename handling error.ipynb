{
  "nbformat": 4,
  "nbformat_minor": 0,
  "metadata": {
    "colab": {
      "name": "erro_Nitt.ipynb",
      "provenance": [],
      "collapsed_sections": []
    },
    "kernelspec": {
      "name": "python3",
      "display_name": "Python 3"
    },
    "language_info": {
      "name": "python"
    }
  },
  "cells": [
    {
      "cell_type": "markdown",
      "source": [
        "#Handling error"
      ],
      "metadata": {
        "id": "SZs6b8pkeL_s"
      }
    },
    {
      "cell_type": "markdown",
      "source": [
        "handling error can use try and except to make program keep running even there error. this way handling error need to know error name that will occur if we want to handle spesific error or make different output for different error"
      ],
      "metadata": {
        "id": "5jofVfQpeb7p"
      }
    },
    {
      "cell_type": "code",
      "source": [
        "1/0"
      ],
      "metadata": {
        "colab": {
          "base_uri": "https://localhost:8080/",
          "height": 171
        },
        "id": "BW6RhL2ve77U",
        "outputId": "b712087c-1993-46be-9f65-1bfb3af729a9"
      },
      "execution_count": null,
      "outputs": [
        {
          "output_type": "error",
          "ename": "ZeroDivisionError",
          "evalue": "ignored",
          "traceback": [
            "\u001b[0;31m---------------------------------------------------------------------------\u001b[0m",
            "\u001b[0;31mZeroDivisionError\u001b[0m                         Traceback (most recent call last)",
            "\u001b[0;32m<ipython-input-1-9e1622b385b6>\u001b[0m in \u001b[0;36m<module>\u001b[0;34m()\u001b[0m\n\u001b[0;32m----> 1\u001b[0;31m \u001b[0;36m1\u001b[0m\u001b[0;34m/\u001b[0m\u001b[0;36m0\u001b[0m\u001b[0;34m\u001b[0m\u001b[0;34m\u001b[0m\u001b[0m\n\u001b[0m",
            "\u001b[0;31mZeroDivisionError\u001b[0m: division by zero"
          ]
        }
      ]
    },
    {
      "cell_type": "markdown",
      "source": [
        "if we run code above will got notice error with name error is ZeroDivisionError. we can use this error name as except so if we got this error will come out output and not stoping the program without output like code below who get output \"can't divide by zero output if got ZeroDivisionError"
      ],
      "metadata": {
        "id": "Oh4cPQW8fFFa"
      }
    },
    {
      "cell_type": "code",
      "execution_count": null,
      "metadata": {
        "colab": {
          "base_uri": "https://localhost:8080/"
        },
        "id": "QrE7SBI5G_u-",
        "outputId": "fbd99365-2bec-4225-d069-5ffe00e2eba4"
      },
      "outputs": [
        {
          "output_type": "stream",
          "name": "stdout",
          "text": [
            "can't divide a number by zero\n"
          ]
        }
      ],
      "source": [
        "a=0\n",
        "\n",
        "try:\n",
        "  bagi=1/a\n",
        "  print(bagi)\n",
        "except ZeroDivisionError:\n",
        "  print(\"can't divide a number by zero\")"
      ]
    },
    {
      "cell_type": "code",
      "source": [
        "open(\"contoh tidak ada.py\")"
      ],
      "metadata": {
        "colab": {
          "base_uri": "https://localhost:8080/",
          "height": 195
        },
        "id": "jR-dX-5kJo4V",
        "outputId": "92ef1f07-bf31-488e-909e-534e4724d365"
      },
      "execution_count": null,
      "outputs": [
        {
          "output_type": "error",
          "ename": "FileNotFoundError",
          "evalue": "ignored",
          "traceback": [
            "\u001b[0;31m---------------------------------------------------------------------------\u001b[0m",
            "\u001b[0;31mFileNotFoundError\u001b[0m                         Traceback (most recent call last)",
            "\u001b[0;32m<ipython-input-3-1619abfb854f>\u001b[0m in \u001b[0;36m<module>\u001b[0;34m()\u001b[0m\n\u001b[0;32m----> 1\u001b[0;31m \u001b[0mopen\u001b[0m\u001b[0;34m(\u001b[0m\u001b[0;34m\"contoh tidak ada.py\"\u001b[0m\u001b[0;34m)\u001b[0m\u001b[0;34m\u001b[0m\u001b[0;34m\u001b[0m\u001b[0m\n\u001b[0m\u001b[1;32m      2\u001b[0m \u001b[0;34m\u001b[0m\u001b[0m\n",
            "\u001b[0;31mFileNotFoundError\u001b[0m: [Errno 2] No such file or directory: 'contoh tidak ada.py'"
          ]
        }
      ]
    },
    {
      "cell_type": "markdown",
      "source": [
        "if we run code above we will get error with name FileNotFoundError. we can use this name as except so if we not found file the program still running and make output like code below.for its writing there 2 way with single statement and with tuple. so, for handlin error with this way we need to know error name that will occur like some example code below with 2 ways write the code"
      ],
      "metadata": {
        "id": "GFzJyEJBf1dm"
      }
    },
    {
      "cell_type": "markdown",
      "source": [
        "> FileNotFoundError"
      ],
      "metadata": {
        "id": "Av_MG53gglm3"
      }
    },
    {
      "cell_type": "code",
      "source": [
        "try:\n",
        "  with open(\"example_nothink.py\") as file:\n",
        "    print(file.read())\n",
        "except FileNotFoundError:\n",
        "  print(\"file not found\")\n"
      ],
      "metadata": {
        "colab": {
          "base_uri": "https://localhost:8080/"
        },
        "id": "h1wms4LrJo0_",
        "outputId": "17e68c07-2db5-4449-b092-065247d2f6de"
      },
      "execution_count": null,
      "outputs": [
        {
          "output_type": "stream",
          "name": "stdout",
          "text": [
            "file not found\n"
          ]
        }
      ]
    },
    {
      "cell_type": "code",
      "source": [
        "try:\n",
        "  with open(\"example_nothink.py\") as file:\n",
        "    print(file.read())\n",
        "except (FileNotFoundError, ):\n",
        "  print(\"file not found\")"
      ],
      "metadata": {
        "colab": {
          "base_uri": "https://localhost:8080/"
        },
        "id": "qAh9iV8-JoyB",
        "outputId": "526ba304-707a-4015-ff9d-e3e64c5b6241"
      },
      "execution_count": null,
      "outputs": [
        {
          "output_type": "stream",
          "name": "stdout",
          "text": [
            "file not found\n"
          ]
        }
      ]
    },
    {
      "cell_type": "markdown",
      "source": [
        ">ZeroDivisionError"
      ],
      "metadata": {
        "id": "HETz2yOHg__N"
      }
    },
    {
      "cell_type": "code",
      "source": [
        "a=0\n",
        "\n",
        "try:\n",
        "  bagi=1/a\n",
        "  print(bagi)\n",
        "except ZeroDivisionError:\n",
        "  print(\"can't divide a number by zero\")"
      ],
      "metadata": {
        "colab": {
          "base_uri": "https://localhost:8080/"
        },
        "id": "0ca4FEgGJovG",
        "outputId": "80ceb027-e3b1-4f55-d5ea-e2ec063da036"
      },
      "execution_count": null,
      "outputs": [
        {
          "output_type": "stream",
          "name": "stdout",
          "text": [
            "can't divide a number by zero\n"
          ]
        }
      ]
    },
    {
      "cell_type": "markdown",
      "source": [
        ">KeyError\n",
        "spesial for dictionary if keyword not found"
      ],
      "metadata": {
        "id": "T02O_8WNhelW"
      }
    },
    {
      "cell_type": "code",
      "source": [
        "d={\"avarage\":10.0}\n",
        "\n",
        "try:\n",
        "  print(\"avarage is\".format(d[\"avarage_value\"]))\n",
        "except KeyError:\n",
        "  print(\"key not found\")"
      ],
      "metadata": {
        "colab": {
          "base_uri": "https://localhost:8080/"
        },
        "id": "ZFGlsbUaJomp",
        "outputId": "9366ad4e-2a4b-414f-f84b-075a818efd70"
      },
      "execution_count": null,
      "outputs": [
        {
          "output_type": "stream",
          "name": "stdout",
          "text": [
            "key not found\n"
          ]
        }
      ]
    },
    {
      "cell_type": "code",
      "source": [
        "d={\"avarage\":10.0}\n",
        "\n",
        "try:\n",
        "  print(\"avarage is\".format(d[\"avarage_value\"]))\n",
        "except (KeyError, ):\n",
        "  print(\"key not found\")"
      ],
      "metadata": {
        "colab": {
          "base_uri": "https://localhost:8080/"
        },
        "id": "1-OOxD4diC7K",
        "outputId": "08b0e897-6f13-4ddc-d295-40da2b02884f"
      },
      "execution_count": null,
      "outputs": [
        {
          "output_type": "stream",
          "name": "stdout",
          "text": [
            "key not found\n"
          ]
        }
      ]
    },
    {
      "cell_type": "markdown",
      "source": [
        ">TypeError"
      ],
      "metadata": {
        "id": "U4ecS1D5nQpt"
      }
    },
    {
      "cell_type": "code",
      "source": [
        "a=\"20\"\n",
        "\n",
        "try:\n",
        "  a+=20\n",
        "  print(a)\n",
        "except TypeError:\n",
        "  print(\"please enter number!\")"
      ],
      "metadata": {
        "colab": {
          "base_uri": "https://localhost:8080/"
        },
        "id": "e7-vkC5XnUE0",
        "outputId": "0e565f7e-b3f4-4900-86e4-f64cc9aacd6a"
      },
      "execution_count": null,
      "outputs": [
        {
          "output_type": "stream",
          "name": "stdout",
          "text": [
            "please enter number!\n"
          ]
        }
      ]
    },
    {
      "cell_type": "code",
      "source": [
        "a=\"20\"\n",
        "\n",
        "try:\n",
        "  a+=20\n",
        "  print(a)\n",
        "except (TypeError,):\n",
        "  print(\"please enter number!\")"
      ],
      "metadata": {
        "colab": {
          "base_uri": "https://localhost:8080/"
        },
        "id": "zKzr7-f2oRX4",
        "outputId": "15c5eecb-261a-4e25-ff6e-7c88e048fe62"
      },
      "execution_count": null,
      "outputs": [
        {
          "output_type": "stream",
          "name": "stdout",
          "text": [
            "please enter number!\n"
          ]
        }
      ]
    },
    {
      "cell_type": "markdown",
      "source": [
        ">ValueError"
      ],
      "metadata": {
        "id": "AFOuO1ziorrH"
      }
    },
    {
      "cell_type": "code",
      "source": [
        "a=\"20.0\"\n",
        "\n",
        "try:\n",
        "  a=int(a)\n",
        "  print(a)\n",
        "except ValueError:\n",
        "  print(\"please enter a proper value to conver to int!\")"
      ],
      "metadata": {
        "colab": {
          "base_uri": "https://localhost:8080/"
        },
        "id": "uSpdymYLoq3P",
        "outputId": "65790031-c9d0-4d51-d999-f66a1b23b1d6"
      },
      "execution_count": null,
      "outputs": [
        {
          "output_type": "stream",
          "name": "stdout",
          "text": [
            "please enter a proper value to conver to int!\n"
          ]
        }
      ]
    },
    {
      "cell_type": "markdown",
      "source": [
        "it possible to handling 2 or more error at once using tuple with seperation comma. for example, code below for handle ValueError and TypeError. these 2 error can't be seperated because its value in form string that contain string and we know that string contain float can't be convert to int. but, if we run program without try and except it will come out as ValueError because string contain float can't be convert"
      ],
      "metadata": {
        "id": "dMRPlb70jAVb"
      }
    },
    {
      "cell_type": "code",
      "source": [
        "d={\"avarage\":\"10.0\"}\n",
        "\n",
        "try:\n",
        "  print(\"rounding average: {}\".format(int(d[\"avarage\"])))\n",
        "except (ValueError, TypeError) as e:\n",
        "  print(\"error handling {}\".format(e))\n"
      ],
      "metadata": {
        "colab": {
          "base_uri": "https://localhost:8080/"
        },
        "id": "KPGLN29bJojz",
        "outputId": "6f65fd9c-1ff4-4594-863e-8d66f6227308"
      },
      "execution_count": null,
      "outputs": [
        {
          "output_type": "stream",
          "name": "stdout",
          "text": [
            "error handling invalid literal for int() with base 10: '10.0'\n"
          ]
        }
      ]
    },
    {
      "cell_type": "code",
      "source": [
        "d=input('enter you value =')\n",
        "\n",
        "try:\n",
        "  d=int(d)\n",
        "  print(\"the value of the child: {}\".format(d))\n",
        "  if (d>7):\n",
        "    print(\"the child's grade is good\")\n",
        "  else:\n",
        "    print(\"the value is less\")\n",
        "except (ValueError, TypeError) as e:\n",
        "  print(\"error handling {}\".format(e))\n"
      ],
      "metadata": {
        "colab": {
          "base_uri": "https://localhost:8080/"
        },
        "id": "DOzo5r47Jog2",
        "outputId": "2d2b2f74-f8d4-49eb-ec3e-64c39938d023"
      },
      "execution_count": null,
      "outputs": [
        {
          "output_type": "stream",
          "name": "stdout",
          "text": [
            "enter you value =4\n",
            "the value of the child: 4\n",
            "the value is less\n"
          ]
        }
      ]
    },
    {
      "cell_type": "markdown",
      "source": [
        "> without spesific name Error\n",
        "if we not fill spesific error name except will read it as all error will be handle with it"
      ],
      "metadata": {
        "id": "kU8BoB9ck3KG"
      }
    },
    {
      "cell_type": "code",
      "source": [
        "try:\n",
        "    print(x)\n",
        "except:\n",
        "    print(\"An Error or something went wrong!\")\n",
        "else:\n",
        "    print(\"Everything is good and Nothing went wrong!\")"
      ],
      "metadata": {
        "id": "istgopR-Jod8",
        "colab": {
          "base_uri": "https://localhost:8080/"
        },
        "outputId": "66cb5c3e-e645-4259-a057-9cd34e700831"
      },
      "execution_count": null,
      "outputs": [
        {
          "output_type": "stream",
          "name": "stdout",
          "text": [
            "An Error or something went wrong!\n"
          ]
        }
      ]
    },
    {
      "cell_type": "code",
      "source": [
        "try:\n",
        "    print(\"Hello there!\")\n",
        "except:\n",
        "    print(\"an error or something went wrong!\")\n",
        "finally:\n",
        "    print(\"exception handling is completed!\")\n"
      ],
      "metadata": {
        "colab": {
          "base_uri": "https://localhost:8080/"
        },
        "id": "o3pX889XuUJT",
        "outputId": "f068e715-e5cf-428a-ff41-7226dcc1d011"
      },
      "execution_count": null,
      "outputs": [
        {
          "output_type": "stream",
          "name": "stdout",
          "text": [
            "Hello there!\n",
            "exception handling is completed!\n"
          ]
        }
      ]
    },
    {
      "cell_type": "markdown",
      "source": [
        "all code above is handling error with output that user still can see. but we can also customize error discripsion with raise like code below"
      ],
      "metadata": {
        "id": "bHBQ5T9Bl59u"
      }
    },
    {
      "cell_type": "code",
      "source": [
        "# you can try to raise exception\n",
        "a = -3\n",
        "\n",
        "if a < 0:\n",
        "    raise Exception(\"Sorry, no numbers below zero here!\")"
      ],
      "metadata": {
        "colab": {
          "base_uri": "https://localhost:8080/",
          "height": 213
        },
        "id": "qT9FgBWcuY9M",
        "outputId": "965fb895-fc71-4e68-9363-d100663fed41"
      },
      "execution_count": null,
      "outputs": [
        {
          "output_type": "error",
          "ename": "Exception",
          "evalue": "ignored",
          "traceback": [
            "\u001b[0;31m---------------------------------------------------------------------------\u001b[0m",
            "\u001b[0;31mException\u001b[0m                                 Traceback (most recent call last)",
            "\u001b[0;32m<ipython-input-3-96300eae7e56>\u001b[0m in \u001b[0;36m<module>\u001b[0;34m()\u001b[0m\n\u001b[1;32m      3\u001b[0m \u001b[0;34m\u001b[0m\u001b[0m\n\u001b[1;32m      4\u001b[0m \u001b[0;32mif\u001b[0m \u001b[0ma\u001b[0m \u001b[0;34m<\u001b[0m \u001b[0;36m0\u001b[0m\u001b[0;34m:\u001b[0m\u001b[0;34m\u001b[0m\u001b[0;34m\u001b[0m\u001b[0m\n\u001b[0;32m----> 5\u001b[0;31m     \u001b[0;32mraise\u001b[0m \u001b[0mException\u001b[0m\u001b[0;34m(\u001b[0m\u001b[0;34m\"Sorry, no numbers below zero here!\"\u001b[0m\u001b[0;34m)\u001b[0m\u001b[0;34m\u001b[0m\u001b[0;34m\u001b[0m\u001b[0m\n\u001b[0m",
            "\u001b[0;31mException\u001b[0m: Sorry, no numbers below zero here!"
          ]
        }
      ]
    },
    {
      "cell_type": "code",
      "source": [
        "# try to raise TypeError\n",
        "\n",
        "a = \"This language is fun!\"\n",
        "\n",
        "if not type(a) is int:\n",
        "    raise TypeError(\"Only integer numbers are allowed here!\")"
      ],
      "metadata": {
        "colab": {
          "base_uri": "https://localhost:8080/",
          "height": 213
        },
        "id": "h6VmWSzmuZNA",
        "outputId": "2b357ead-6f4c-40c2-d537-d1cf843b1edc"
      },
      "execution_count": null,
      "outputs": [
        {
          "output_type": "error",
          "ename": "TypeError",
          "evalue": "ignored",
          "traceback": [
            "\u001b[0;31m---------------------------------------------------------------------------\u001b[0m",
            "\u001b[0;31mTypeError\u001b[0m                                 Traceback (most recent call last)",
            "\u001b[0;32m<ipython-input-4-a5bd0a068530>\u001b[0m in \u001b[0;36m<module>\u001b[0;34m()\u001b[0m\n\u001b[1;32m      4\u001b[0m \u001b[0;34m\u001b[0m\u001b[0m\n\u001b[1;32m      5\u001b[0m \u001b[0;32mif\u001b[0m \u001b[0;32mnot\u001b[0m \u001b[0mtype\u001b[0m\u001b[0;34m(\u001b[0m\u001b[0ma\u001b[0m\u001b[0;34m)\u001b[0m \u001b[0;32mis\u001b[0m \u001b[0mint\u001b[0m\u001b[0;34m:\u001b[0m\u001b[0;34m\u001b[0m\u001b[0;34m\u001b[0m\u001b[0m\n\u001b[0;32m----> 6\u001b[0;31m     \u001b[0;32mraise\u001b[0m \u001b[0mTypeError\u001b[0m\u001b[0;34m(\u001b[0m\u001b[0;34m\"Only integer numbers are allowed here!\"\u001b[0m\u001b[0;34m)\u001b[0m\u001b[0;34m\u001b[0m\u001b[0;34m\u001b[0m\u001b[0m\n\u001b[0m",
            "\u001b[0;31mTypeError\u001b[0m: Only integer numbers are allowed here!"
          ]
        }
      ]
    }
  ]
}